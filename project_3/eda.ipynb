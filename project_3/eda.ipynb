{
 "cells": [
  {
   "cell_type": "markdown",
   "metadata": {},
   "source": [
    "## **PROJECT-3. EDA + Feature Engineering**"
   ]
  },
  {
   "cell_type": "code",
   "execution_count": 2,
   "metadata": {},
   "outputs": [],
   "source": [
    "import pandas as pd\n",
    "import re\n",
    "from scipy import stats\n",
    "import category_encoders as ce\n",
    "from sklearn.preprocessing import MinMaxScaler\n",
    "from sklearn.feature_selection import f_classif\n",
    "import numpy as np\n",
    "\n",
    "# библиотеки для визуализации\n",
    "import matplotlib.pyplot as plt\n",
    "import seaborn as sns \n",
    "%matplotlib inline"
   ]
  },
  {
   "cell_type": "code",
   "execution_count": 4,
   "metadata": {},
   "outputs": [
    {
     "data": {
      "text/html": [
       "<div>\n",
       "<style scoped>\n",
       "    .dataframe tbody tr th:only-of-type {\n",
       "        vertical-align: middle;\n",
       "    }\n",
       "\n",
       "    .dataframe tbody tr th {\n",
       "        vertical-align: top;\n",
       "    }\n",
       "\n",
       "    .dataframe thead th {\n",
       "        text-align: right;\n",
       "    }\n",
       "</style>\n",
       "<table border=\"1\" class=\"dataframe\">\n",
       "  <thead>\n",
       "    <tr style=\"text-align: right;\">\n",
       "      <th></th>\n",
       "      <th>hotel_address</th>\n",
       "      <th>additional_number_of_scoring</th>\n",
       "      <th>review_date</th>\n",
       "      <th>average_score</th>\n",
       "      <th>hotel_name</th>\n",
       "      <th>reviewer_nationality</th>\n",
       "      <th>negative_review</th>\n",
       "      <th>review_total_negative_word_counts</th>\n",
       "      <th>total_number_of_reviews</th>\n",
       "      <th>positive_review</th>\n",
       "      <th>review_total_positive_word_counts</th>\n",
       "      <th>total_number_of_reviews_reviewer_has_given</th>\n",
       "      <th>reviewer_score</th>\n",
       "      <th>tags</th>\n",
       "      <th>days_since_review</th>\n",
       "      <th>lat</th>\n",
       "      <th>lng</th>\n",
       "    </tr>\n",
       "  </thead>\n",
       "  <tbody>\n",
       "    <tr>\n",
       "      <th>0</th>\n",
       "      <td>Stratton Street Mayfair Westminster Borough Lo...</td>\n",
       "      <td>581</td>\n",
       "      <td>2/19/2016</td>\n",
       "      <td>8.4</td>\n",
       "      <td>The May Fair Hotel</td>\n",
       "      <td>United Kingdom</td>\n",
       "      <td>Leaving</td>\n",
       "      <td>3</td>\n",
       "      <td>1994</td>\n",
       "      <td>Staff were amazing</td>\n",
       "      <td>4</td>\n",
       "      <td>7</td>\n",
       "      <td>10.0</td>\n",
       "      <td>[' Leisure trip ', ' Couple ', ' Studio Suite ...</td>\n",
       "      <td>531 day</td>\n",
       "      <td>51.507894</td>\n",
       "      <td>-0.143671</td>\n",
       "    </tr>\n",
       "    <tr>\n",
       "      <th>1</th>\n",
       "      <td>130 134 Southampton Row Camden London WC1B 5AF...</td>\n",
       "      <td>299</td>\n",
       "      <td>1/12/2017</td>\n",
       "      <td>8.3</td>\n",
       "      <td>Mercure London Bloomsbury Hotel</td>\n",
       "      <td>United Kingdom</td>\n",
       "      <td>poor breakfast</td>\n",
       "      <td>3</td>\n",
       "      <td>1361</td>\n",
       "      <td>location</td>\n",
       "      <td>2</td>\n",
       "      <td>14</td>\n",
       "      <td>6.3</td>\n",
       "      <td>[' Business trip ', ' Couple ', ' Standard Dou...</td>\n",
       "      <td>203 day</td>\n",
       "      <td>51.521009</td>\n",
       "      <td>-0.123097</td>\n",
       "    </tr>\n",
       "    <tr>\n",
       "      <th>2</th>\n",
       "      <td>151 bis Rue de Rennes 6th arr 75006 Paris France</td>\n",
       "      <td>32</td>\n",
       "      <td>10/18/2016</td>\n",
       "      <td>8.9</td>\n",
       "      <td>Legend Saint Germain by Elegancia</td>\n",
       "      <td>China</td>\n",
       "      <td>No kettle in room</td>\n",
       "      <td>6</td>\n",
       "      <td>406</td>\n",
       "      <td>No Positive</td>\n",
       "      <td>0</td>\n",
       "      <td>14</td>\n",
       "      <td>7.5</td>\n",
       "      <td>[' Leisure trip ', ' Solo traveler ', ' Modern...</td>\n",
       "      <td>289 day</td>\n",
       "      <td>48.845377</td>\n",
       "      <td>2.325643</td>\n",
       "    </tr>\n",
       "    <tr>\n",
       "      <th>3</th>\n",
       "      <td>216 Avenue Jean Jaures 19th arr 75019 Paris Fr...</td>\n",
       "      <td>34</td>\n",
       "      <td>9/22/2015</td>\n",
       "      <td>7.5</td>\n",
       "      <td>Mercure Paris 19 Philharmonie La Villette</td>\n",
       "      <td>United Kingdom</td>\n",
       "      <td>No Negative</td>\n",
       "      <td>0</td>\n",
       "      <td>607</td>\n",
       "      <td>Friendly staff quiet comfortable room spotles...</td>\n",
       "      <td>11</td>\n",
       "      <td>8</td>\n",
       "      <td>10.0</td>\n",
       "      <td>[' Leisure trip ', ' Solo traveler ', ' Standa...</td>\n",
       "      <td>681 day</td>\n",
       "      <td>48.888697</td>\n",
       "      <td>2.394540</td>\n",
       "    </tr>\n",
       "    <tr>\n",
       "      <th>4</th>\n",
       "      <td>Molenwerf 1 1014 AG Amsterdam Netherlands</td>\n",
       "      <td>914</td>\n",
       "      <td>3/5/2016</td>\n",
       "      <td>8.5</td>\n",
       "      <td>Golden Tulip Amsterdam West</td>\n",
       "      <td>Poland</td>\n",
       "      <td>Torn sheets</td>\n",
       "      <td>4</td>\n",
       "      <td>7586</td>\n",
       "      <td>The staff was very friendly and helpful Break...</td>\n",
       "      <td>20</td>\n",
       "      <td>10</td>\n",
       "      <td>9.6</td>\n",
       "      <td>[' Business trip ', ' Couple ', ' Standard Dou...</td>\n",
       "      <td>516 day</td>\n",
       "      <td>52.385601</td>\n",
       "      <td>4.847060</td>\n",
       "    </tr>\n",
       "  </tbody>\n",
       "</table>\n",
       "</div>"
      ],
      "text/plain": [
       "                                       hotel_address  \\\n",
       "0  Stratton Street Mayfair Westminster Borough Lo...   \n",
       "1  130 134 Southampton Row Camden London WC1B 5AF...   \n",
       "2   151 bis Rue de Rennes 6th arr 75006 Paris France   \n",
       "3  216 Avenue Jean Jaures 19th arr 75019 Paris Fr...   \n",
       "4          Molenwerf 1 1014 AG Amsterdam Netherlands   \n",
       "\n",
       "   additional_number_of_scoring review_date  average_score  \\\n",
       "0                           581   2/19/2016            8.4   \n",
       "1                           299   1/12/2017            8.3   \n",
       "2                            32  10/18/2016            8.9   \n",
       "3                            34   9/22/2015            7.5   \n",
       "4                           914    3/5/2016            8.5   \n",
       "\n",
       "                                  hotel_name reviewer_nationality  \\\n",
       "0                         The May Fair Hotel      United Kingdom    \n",
       "1            Mercure London Bloomsbury Hotel      United Kingdom    \n",
       "2          Legend Saint Germain by Elegancia               China    \n",
       "3  Mercure Paris 19 Philharmonie La Villette      United Kingdom    \n",
       "4                Golden Tulip Amsterdam West              Poland    \n",
       "\n",
       "       negative_review  review_total_negative_word_counts  \\\n",
       "0             Leaving                                   3   \n",
       "1       poor breakfast                                  3   \n",
       "2   No kettle in room                                   6   \n",
       "3          No Negative                                  0   \n",
       "4         Torn sheets                                   4   \n",
       "\n",
       "   total_number_of_reviews                                    positive_review  \\\n",
       "0                     1994                                 Staff were amazing   \n",
       "1                     1361                                           location   \n",
       "2                      406                                        No Positive   \n",
       "3                      607   Friendly staff quiet comfortable room spotles...   \n",
       "4                     7586   The staff was very friendly and helpful Break...   \n",
       "\n",
       "   review_total_positive_word_counts  \\\n",
       "0                                  4   \n",
       "1                                  2   \n",
       "2                                  0   \n",
       "3                                 11   \n",
       "4                                 20   \n",
       "\n",
       "   total_number_of_reviews_reviewer_has_given  reviewer_score  \\\n",
       "0                                           7            10.0   \n",
       "1                                          14             6.3   \n",
       "2                                          14             7.5   \n",
       "3                                           8            10.0   \n",
       "4                                          10             9.6   \n",
       "\n",
       "                                                tags days_since_review  \\\n",
       "0  [' Leisure trip ', ' Couple ', ' Studio Suite ...           531 day   \n",
       "1  [' Business trip ', ' Couple ', ' Standard Dou...           203 day   \n",
       "2  [' Leisure trip ', ' Solo traveler ', ' Modern...           289 day   \n",
       "3  [' Leisure trip ', ' Solo traveler ', ' Standa...           681 day   \n",
       "4  [' Business trip ', ' Couple ', ' Standard Dou...           516 day   \n",
       "\n",
       "         lat       lng  \n",
       "0  51.507894 -0.143671  \n",
       "1  51.521009 -0.123097  \n",
       "2  48.845377  2.325643  \n",
       "3  48.888697  2.394540  \n",
       "4  52.385601  4.847060  "
      ]
     },
     "execution_count": 4,
     "metadata": {},
     "output_type": "execute_result"
    }
   ],
   "source": [
    "hotels = pd.read_csv('data/hotels.csv') # читаем датасет\n",
    "\n",
    "hotels.head()"
   ]
  },
  {
   "cell_type": "markdown",
   "metadata": {},
   "source": [
    "\n",
    "В каких столбцах данные содержат пропущенные значения?"
   ]
  },
  {
   "cell_type": "code",
   "execution_count": 346,
   "metadata": {},
   "outputs": [
    {
     "name": "stdout",
     "output_type": "stream",
     "text": [
      "<class 'pandas.core.frame.DataFrame'>\n",
      "RangeIndex: 386803 entries, 0 to 386802\n",
      "Data columns (total 17 columns):\n",
      " #   Column                                      Non-Null Count   Dtype  \n",
      "---  ------                                      --------------   -----  \n",
      " 0   hotel_address                               386803 non-null  object \n",
      " 1   additional_number_of_scoring                386803 non-null  int64  \n",
      " 2   review_date                                 386803 non-null  object \n",
      " 3   average_score                               386803 non-null  float64\n",
      " 4   hotel_name                                  386803 non-null  object \n",
      " 5   reviewer_nationality                        386803 non-null  object \n",
      " 6   negative_review                             386803 non-null  object \n",
      " 7   review_total_negative_word_counts           386803 non-null  int64  \n",
      " 8   total_number_of_reviews                     386803 non-null  int64  \n",
      " 9   positive_review                             386803 non-null  object \n",
      " 10  review_total_positive_word_counts           386803 non-null  int64  \n",
      " 11  total_number_of_reviews_reviewer_has_given  386803 non-null  int64  \n",
      " 12  reviewer_score                              386803 non-null  float64\n",
      " 13  tags                                        386803 non-null  object \n",
      " 14  days_since_review                           386803 non-null  object \n",
      " 15  lat                                         384355 non-null  float64\n",
      " 16  lng                                         384355 non-null  float64\n",
      "dtypes: float64(4), int64(5), object(8)\n",
      "memory usage: 50.2+ MB\n"
     ]
    }
   ],
   "source": [
    "hotels.info()"
   ]
  },
  {
   "cell_type": "markdown",
   "metadata": {},
   "source": [
    "пропуски в столбцах lat и lng"
   ]
  },
  {
   "cell_type": "code",
   "execution_count": 347,
   "metadata": {},
   "outputs": [],
   "source": [
    "import numpy as np\n",
    "\n",
    "# убираем признаки которые еще не успели обработать, \n",
    "#  модель на признаках с dtypes \"object\" обучаться не будет, просто выберим их и удалим\n",
    "\n",
    "object_columns = [s for s in hotels.columns if hotels[s].dtypes == 'object']\n",
    "hotels.drop(object_columns, axis = 1, inplace=True)\n",
    "\n",
    "# заполняем пропуски самым простым способом\n",
    "hotels = hotels.fillna(0)"
   ]
  },
  {
   "cell_type": "code",
   "execution_count": 348,
   "metadata": {},
   "outputs": [],
   "source": [
    "# Разбиваем датафрейм на части, необходимые для обучения и тестирования модели  \n",
    "# Х - данные с информацией об отелях, у - целевая переменная (рейтинги отелей)  \n",
    "X = hotels.drop(['reviewer_score'], axis = 1)  \n",
    "y = hotels['reviewer_score'] "
   ]
  },
  {
   "cell_type": "code",
   "execution_count": 349,
   "metadata": {},
   "outputs": [],
   "source": [
    "# Загружаем специальный инструмент для разбивки:  \n",
    "from sklearn.model_selection import train_test_split "
   ]
  },
  {
   "cell_type": "code",
   "execution_count": 350,
   "metadata": {},
   "outputs": [],
   "source": [
    "# Наборы данных с меткой \"train\" будут использоваться для обучения модели, \"test\" - для тестирования.  \n",
    "# Для тестирования мы будем использовать 25% от исходного датасета.  \n",
    "X_train, X_test, y_train, y_test = train_test_split(X, y, test_size=0.25, random_state=42)"
   ]
  },
  {
   "cell_type": "code",
   "execution_count": 351,
   "metadata": {},
   "outputs": [],
   "source": [
    "# Импортируем необходимые библиотеки:  \n",
    "from sklearn.ensemble import RandomForestRegressor # инструмент для создания и обучения модели  \n",
    "from sklearn import metrics # инструменты для оценки точности модели  \n",
    "  \n",
    "# Создаём модель  \n",
    "regr = RandomForestRegressor(n_estimators=100)  \n",
    "      \n",
    "# Обучаем модель на тестовом наборе данных  \n",
    "regr.fit(X_train, y_train)  \n",
    "      \n",
    "# Используем обученную модель для предсказания рейтинга отелей в тестовой выборке.  \n",
    "# Предсказанные значения записываем в переменную y_pred  \n",
    "y_pred = regr.predict(X_test)  "
   ]
  },
  {
   "cell_type": "code",
   "execution_count": 352,
   "metadata": {},
   "outputs": [
    {
     "name": "stdout",
     "output_type": "stream",
     "text": [
      "MAPE: 0.14136506811108884\n"
     ]
    }
   ],
   "source": [
    "# Сравниваем предсказанные значения (y_pred) с реальными (y_test), и смотрим насколько они отличаются  \n",
    "# Метрика называется Mean Absolute Percentage Error (MAPE) и показывает среднюю абсолютную процентную ошибку предсказанных значений от фактических.  \n",
    "print('MAPE:', metrics.mean_absolute_percentage_error(y_test, y_pred))"
   ]
  },
  {
   "cell_type": "markdown",
   "metadata": {},
   "source": [
    "# Подготовка данных и анализ"
   ]
  },
  {
   "cell_type": "code",
   "execution_count": 404,
   "metadata": {},
   "outputs": [
    {
     "data": {
      "text/html": [
       "<div>\n",
       "<style scoped>\n",
       "    .dataframe tbody tr th:only-of-type {\n",
       "        vertical-align: middle;\n",
       "    }\n",
       "\n",
       "    .dataframe tbody tr th {\n",
       "        vertical-align: top;\n",
       "    }\n",
       "\n",
       "    .dataframe thead th {\n",
       "        text-align: right;\n",
       "    }\n",
       "</style>\n",
       "<table border=\"1\" class=\"dataframe\">\n",
       "  <thead>\n",
       "    <tr style=\"text-align: right;\">\n",
       "      <th></th>\n",
       "      <th>hotel_address</th>\n",
       "      <th>additional_number_of_scoring</th>\n",
       "      <th>review_date</th>\n",
       "      <th>average_score</th>\n",
       "      <th>hotel_name</th>\n",
       "      <th>reviewer_nationality</th>\n",
       "      <th>negative_review</th>\n",
       "      <th>review_total_negative_word_counts</th>\n",
       "      <th>total_number_of_reviews</th>\n",
       "      <th>positive_review</th>\n",
       "      <th>review_total_positive_word_counts</th>\n",
       "      <th>total_number_of_reviews_reviewer_has_given</th>\n",
       "      <th>reviewer_score</th>\n",
       "      <th>tags</th>\n",
       "      <th>days_since_review</th>\n",
       "      <th>lat</th>\n",
       "      <th>lng</th>\n",
       "    </tr>\n",
       "  </thead>\n",
       "  <tbody>\n",
       "    <tr>\n",
       "      <th>0</th>\n",
       "      <td>Stratton Street Mayfair Westminster Borough Lo...</td>\n",
       "      <td>581</td>\n",
       "      <td>2/19/2016</td>\n",
       "      <td>8.4</td>\n",
       "      <td>The May Fair Hotel</td>\n",
       "      <td>United Kingdom</td>\n",
       "      <td>Leaving</td>\n",
       "      <td>3</td>\n",
       "      <td>1994</td>\n",
       "      <td>Staff were amazing</td>\n",
       "      <td>4</td>\n",
       "      <td>7</td>\n",
       "      <td>10.0</td>\n",
       "      <td>[' Leisure trip ', ' Couple ', ' Studio Suite ...</td>\n",
       "      <td>531 day</td>\n",
       "      <td>51.507894</td>\n",
       "      <td>-0.143671</td>\n",
       "    </tr>\n",
       "    <tr>\n",
       "      <th>1</th>\n",
       "      <td>130 134 Southampton Row Camden London WC1B 5AF...</td>\n",
       "      <td>299</td>\n",
       "      <td>1/12/2017</td>\n",
       "      <td>8.3</td>\n",
       "      <td>Mercure London Bloomsbury Hotel</td>\n",
       "      <td>United Kingdom</td>\n",
       "      <td>poor breakfast</td>\n",
       "      <td>3</td>\n",
       "      <td>1361</td>\n",
       "      <td>location</td>\n",
       "      <td>2</td>\n",
       "      <td>14</td>\n",
       "      <td>6.3</td>\n",
       "      <td>[' Business trip ', ' Couple ', ' Standard Dou...</td>\n",
       "      <td>203 day</td>\n",
       "      <td>51.521009</td>\n",
       "      <td>-0.123097</td>\n",
       "    </tr>\n",
       "  </tbody>\n",
       "</table>\n",
       "</div>"
      ],
      "text/plain": [
       "                                       hotel_address  \\\n",
       "0  Stratton Street Mayfair Westminster Borough Lo...   \n",
       "1  130 134 Southampton Row Camden London WC1B 5AF...   \n",
       "\n",
       "   additional_number_of_scoring review_date  average_score  \\\n",
       "0                           581   2/19/2016            8.4   \n",
       "1                           299   1/12/2017            8.3   \n",
       "\n",
       "                        hotel_name reviewer_nationality  negative_review  \\\n",
       "0               The May Fair Hotel      United Kingdom          Leaving    \n",
       "1  Mercure London Bloomsbury Hotel      United Kingdom    poor breakfast   \n",
       "\n",
       "   review_total_negative_word_counts  total_number_of_reviews  \\\n",
       "0                                  3                     1994   \n",
       "1                                  3                     1361   \n",
       "\n",
       "       positive_review  review_total_positive_word_counts  \\\n",
       "0   Staff were amazing                                  4   \n",
       "1             location                                  2   \n",
       "\n",
       "   total_number_of_reviews_reviewer_has_given  reviewer_score  \\\n",
       "0                                           7            10.0   \n",
       "1                                          14             6.3   \n",
       "\n",
       "                                                tags days_since_review  \\\n",
       "0  [' Leisure trip ', ' Couple ', ' Studio Suite ...           531 day   \n",
       "1  [' Business trip ', ' Couple ', ' Standard Dou...           203 day   \n",
       "\n",
       "         lat       lng  \n",
       "0  51.507894 -0.143671  \n",
       "1  51.521009 -0.123097  "
      ]
     },
     "execution_count": 404,
     "metadata": {},
     "output_type": "execute_result"
    }
   ],
   "source": [
    "hotels = pd.read_csv('data/hotels.csv') \n",
    "hotels.head(2)"
   ]
  },
  {
   "cell_type": "code",
   "execution_count": 405,
   "metadata": {},
   "outputs": [
    {
     "name": "stdout",
     "output_type": "stream",
     "text": [
      "Число найденных дубликатов: 307\n"
     ]
    }
   ],
   "source": [
    "# проверяем количество полных дубликатов\n",
    "duple_columns = list(hotels.columns)\n",
    "\n",
    "mask = hotels.duplicated(subset=duple_columns)\n",
    "hotels_duplicates = hotels[mask]\n",
    "\n",
    "print(f'Число найденных дубликатов: {hotels_duplicates.shape[0]}')"
   ]
  },
  {
   "cell_type": "code",
   "execution_count": 406,
   "metadata": {},
   "outputs": [
    {
     "name": "stdout",
     "output_type": "stream",
     "text": [
      "<class 'pandas.core.frame.DataFrame'>\n",
      "RangeIndex: 386803 entries, 0 to 386802\n",
      "Data columns (total 17 columns):\n",
      " #   Column                                      Non-Null Count   Dtype  \n",
      "---  ------                                      --------------   -----  \n",
      " 0   hotel_address                               386803 non-null  object \n",
      " 1   additional_number_of_scoring                386803 non-null  int64  \n",
      " 2   review_date                                 386803 non-null  object \n",
      " 3   average_score                               386803 non-null  float64\n",
      " 4   hotel_name                                  386803 non-null  object \n",
      " 5   reviewer_nationality                        386803 non-null  object \n",
      " 6   negative_review                             386803 non-null  object \n",
      " 7   review_total_negative_word_counts           386803 non-null  int64  \n",
      " 8   total_number_of_reviews                     386803 non-null  int64  \n",
      " 9   positive_review                             386803 non-null  object \n",
      " 10  review_total_positive_word_counts           386803 non-null  int64  \n",
      " 11  total_number_of_reviews_reviewer_has_given  386803 non-null  int64  \n",
      " 12  reviewer_score                              386803 non-null  float64\n",
      " 13  tags                                        386803 non-null  object \n",
      " 14  days_since_review                           386803 non-null  object \n",
      " 15  lat                                         384355 non-null  float64\n",
      " 16  lng                                         384355 non-null  float64\n",
      "dtypes: float64(4), int64(5), object(8)\n",
      "memory usage: 50.2+ MB\n"
     ]
    }
   ],
   "source": [
    "# ищем пропуски и смотрим на тип данных\n",
    "hotels.info()"
   ]
  },
  {
   "cell_type": "code",
   "execution_count": 407,
   "metadata": {},
   "outputs": [],
   "source": [
    "hotels['review_date'] = pd.to_datetime(hotels['review_date']) # приводим дату к формату datetime"
   ]
  },
  {
   "cell_type": "markdown",
   "metadata": {},
   "source": [
    "# Очистка данных и создание новых признаков"
   ]
  },
  {
   "cell_type": "code",
   "execution_count": 408,
   "metadata": {},
   "outputs": [
    {
     "name": "stdout",
     "output_type": "stream",
     "text": [
      "Результирующее число записей: 386496\n"
     ]
    }
   ],
   "source": [
    "hotels = hotels.drop_duplicates(subset=duple_columns) # удаляем полные дубликаты\n",
    "\n",
    "\n",
    "print(f'Результирующее число записей: {hotels.shape[0]}')"
   ]
  },
  {
   "cell_type": "code",
   "execution_count": 409,
   "metadata": {},
   "outputs": [
    {
     "name": "stdout",
     "output_type": "stream",
     "text": [
      "lat    0.633383\n",
      "lng    0.633383\n",
      "dtype: float64\n"
     ]
    }
   ],
   "source": [
    "# проверяем сколько в % у нас заполнено значений в столбцах с пропусками\n",
    "cols_null_percent = hotels.isnull().mean() * 100\n",
    "cols_with_null = cols_null_percent[cols_null_percent>0].sort_values(ascending=False)\n",
    "\n",
    "\n",
    "print(cols_with_null)"
   ]
  },
  {
   "cell_type": "code",
   "execution_count": 410,
   "metadata": {},
   "outputs": [],
   "source": [
    "# категориальный признак, модальное значение не подходит т.к. это координаты\n",
    "hotels['lat'] = hotels['lat'].fillna(0, inplace=True)\n",
    "hotels['lng'] = hotels['lng'].fillna(0, inplace=True)"
   ]
  },
  {
   "cell_type": "code",
   "execution_count": 411,
   "metadata": {},
   "outputs": [
    {
     "data": {
      "text/plain": [
       "0         531\n",
       "1         203\n",
       "2         289\n",
       "3         681\n",
       "4         516\n",
       "         ... \n",
       "386798    106\n",
       "386799    171\n",
       "386800    543\n",
       "386801     74\n",
       "386802    363\n",
       "Name: days_since_review, Length: 386496, dtype: object"
      ]
     },
     "execution_count": 411,
     "metadata": {},
     "output_type": "execute_result"
    }
   ],
   "source": [
    "regex = '[0-9]+' # регулярное выражение для нахождения чисел\n",
    "hotels['days_since_review'] = hotels['days_since_review'].str.findall(regex).str.get(0) # находим число в строке\n",
    "hotels['days_since_review']"
   ]
  },
  {
   "cell_type": "code",
   "execution_count": 412,
   "metadata": {},
   "outputs": [],
   "source": [
    "hotels['days_since_review'] = hotels['days_since_review'].astype('int64') # строковый столбец в числовой"
   ]
  },
  {
   "cell_type": "code",
   "execution_count": 413,
   "metadata": {},
   "outputs": [],
   "source": [
    "hotels['review_month'] = hotels['review_date'].dt.month # создание нового признака месяца"
   ]
  },
  {
   "cell_type": "code",
   "execution_count": 414,
   "metadata": {},
   "outputs": [
    {
     "data": {
      "text/html": [
       "<div>\n",
       "<style scoped>\n",
       "    .dataframe tbody tr th:only-of-type {\n",
       "        vertical-align: middle;\n",
       "    }\n",
       "\n",
       "    .dataframe tbody tr th {\n",
       "        vertical-align: top;\n",
       "    }\n",
       "\n",
       "    .dataframe thead th {\n",
       "        text-align: right;\n",
       "    }\n",
       "</style>\n",
       "<table border=\"1\" class=\"dataframe\">\n",
       "  <thead>\n",
       "    <tr style=\"text-align: right;\">\n",
       "      <th></th>\n",
       "      <th>additional_number_of_scoring</th>\n",
       "      <th>average_score</th>\n",
       "      <th>review_total_negative_word_counts</th>\n",
       "      <th>total_number_of_reviews</th>\n",
       "      <th>review_total_positive_word_counts</th>\n",
       "      <th>total_number_of_reviews_reviewer_has_given</th>\n",
       "      <th>reviewer_score</th>\n",
       "      <th>days_since_review</th>\n",
       "    </tr>\n",
       "    <tr>\n",
       "      <th>review_month</th>\n",
       "      <th></th>\n",
       "      <th></th>\n",
       "      <th></th>\n",
       "      <th></th>\n",
       "      <th></th>\n",
       "      <th></th>\n",
       "      <th></th>\n",
       "      <th></th>\n",
       "    </tr>\n",
       "  </thead>\n",
       "  <tbody>\n",
       "    <tr>\n",
       "      <th>1</th>\n",
       "      <td>519.274179</td>\n",
       "      <td>8.412761</td>\n",
       "      <td>18.011081</td>\n",
       "      <td>2795.257795</td>\n",
       "      <td>17.940751</td>\n",
       "      <td>7.237982</td>\n",
       "      <td>8.482867</td>\n",
       "      <td>368.816949</td>\n",
       "    </tr>\n",
       "    <tr>\n",
       "      <th>2</th>\n",
       "      <td>532.683358</td>\n",
       "      <td>8.399714</td>\n",
       "      <td>18.149737</td>\n",
       "      <td>2783.876136</td>\n",
       "      <td>17.392033</td>\n",
       "      <td>7.031723</td>\n",
       "      <td>8.535112</td>\n",
       "      <td>348.440123</td>\n",
       "    </tr>\n",
       "    <tr>\n",
       "      <th>3</th>\n",
       "      <td>521.605550</td>\n",
       "      <td>8.395000</td>\n",
       "      <td>18.291798</td>\n",
       "      <td>2791.901881</td>\n",
       "      <td>17.685470</td>\n",
       "      <td>7.050096</td>\n",
       "      <td>8.481804</td>\n",
       "      <td>324.264208</td>\n",
       "    </tr>\n",
       "    <tr>\n",
       "      <th>4</th>\n",
       "      <td>506.741507</td>\n",
       "      <td>8.406614</td>\n",
       "      <td>19.267809</td>\n",
       "      <td>2749.001056</td>\n",
       "      <td>18.963356</td>\n",
       "      <td>6.995466</td>\n",
       "      <td>8.432337</td>\n",
       "      <td>292.183902</td>\n",
       "    </tr>\n",
       "    <tr>\n",
       "      <th>5</th>\n",
       "      <td>489.985922</td>\n",
       "      <td>8.398223</td>\n",
       "      <td>19.547282</td>\n",
       "      <td>2704.118076</td>\n",
       "      <td>18.899521</td>\n",
       "      <td>7.138357</td>\n",
       "      <td>8.386081</td>\n",
       "      <td>259.978652</td>\n",
       "    </tr>\n",
       "    <tr>\n",
       "      <th>6</th>\n",
       "      <td>485.932096</td>\n",
       "      <td>8.397631</td>\n",
       "      <td>19.777191</td>\n",
       "      <td>2719.800478</td>\n",
       "      <td>19.253454</td>\n",
       "      <td>6.815133</td>\n",
       "      <td>8.387518</td>\n",
       "      <td>224.753190</td>\n",
       "    </tr>\n",
       "    <tr>\n",
       "      <th>7</th>\n",
       "      <td>457.207011</td>\n",
       "      <td>8.395875</td>\n",
       "      <td>19.756211</td>\n",
       "      <td>2693.959719</td>\n",
       "      <td>18.842593</td>\n",
       "      <td>6.785122</td>\n",
       "      <td>8.339427</td>\n",
       "      <td>210.485396</td>\n",
       "    </tr>\n",
       "    <tr>\n",
       "      <th>8</th>\n",
       "      <td>487.296850</td>\n",
       "      <td>8.406057</td>\n",
       "      <td>18.091125</td>\n",
       "      <td>2749.803438</td>\n",
       "      <td>17.856249</td>\n",
       "      <td>7.091152</td>\n",
       "      <td>8.413316</td>\n",
       "      <td>462.470994</td>\n",
       "    </tr>\n",
       "    <tr>\n",
       "      <th>9</th>\n",
       "      <td>470.201519</td>\n",
       "      <td>8.387407</td>\n",
       "      <td>18.013422</td>\n",
       "      <td>2711.209773</td>\n",
       "      <td>16.762469</td>\n",
       "      <td>7.422918</td>\n",
       "      <td>8.294089</td>\n",
       "      <td>491.503103</td>\n",
       "    </tr>\n",
       "    <tr>\n",
       "      <th>10</th>\n",
       "      <td>486.548706</td>\n",
       "      <td>8.384908</td>\n",
       "      <td>18.153225</td>\n",
       "      <td>2704.185686</td>\n",
       "      <td>16.335084</td>\n",
       "      <td>7.337817</td>\n",
       "      <td>8.262772</td>\n",
       "      <td>454.304840</td>\n",
       "    </tr>\n",
       "    <tr>\n",
       "      <th>11</th>\n",
       "      <td>518.859515</td>\n",
       "      <td>8.381533</td>\n",
       "      <td>17.519053</td>\n",
       "      <td>2778.817259</td>\n",
       "      <td>16.260731</td>\n",
       "      <td>7.656016</td>\n",
       "      <td>8.343524</td>\n",
       "      <td>445.711876</td>\n",
       "    </tr>\n",
       "    <tr>\n",
       "      <th>12</th>\n",
       "      <td>524.970199</td>\n",
       "      <td>8.400249</td>\n",
       "      <td>17.393508</td>\n",
       "      <td>2780.187157</td>\n",
       "      <td>16.515911</td>\n",
       "      <td>7.731825</td>\n",
       "      <td>8.431357</td>\n",
       "      <td>395.475402</td>\n",
       "    </tr>\n",
       "  </tbody>\n",
       "</table>\n",
       "</div>"
      ],
      "text/plain": [
       "              additional_number_of_scoring  average_score  \\\n",
       "review_month                                                \n",
       "1                               519.274179       8.412761   \n",
       "2                               532.683358       8.399714   \n",
       "3                               521.605550       8.395000   \n",
       "4                               506.741507       8.406614   \n",
       "5                               489.985922       8.398223   \n",
       "6                               485.932096       8.397631   \n",
       "7                               457.207011       8.395875   \n",
       "8                               487.296850       8.406057   \n",
       "9                               470.201519       8.387407   \n",
       "10                              486.548706       8.384908   \n",
       "11                              518.859515       8.381533   \n",
       "12                              524.970199       8.400249   \n",
       "\n",
       "              review_total_negative_word_counts  total_number_of_reviews  \\\n",
       "review_month                                                               \n",
       "1                                     18.011081              2795.257795   \n",
       "2                                     18.149737              2783.876136   \n",
       "3                                     18.291798              2791.901881   \n",
       "4                                     19.267809              2749.001056   \n",
       "5                                     19.547282              2704.118076   \n",
       "6                                     19.777191              2719.800478   \n",
       "7                                     19.756211              2693.959719   \n",
       "8                                     18.091125              2749.803438   \n",
       "9                                     18.013422              2711.209773   \n",
       "10                                    18.153225              2704.185686   \n",
       "11                                    17.519053              2778.817259   \n",
       "12                                    17.393508              2780.187157   \n",
       "\n",
       "              review_total_positive_word_counts  \\\n",
       "review_month                                      \n",
       "1                                     17.940751   \n",
       "2                                     17.392033   \n",
       "3                                     17.685470   \n",
       "4                                     18.963356   \n",
       "5                                     18.899521   \n",
       "6                                     19.253454   \n",
       "7                                     18.842593   \n",
       "8                                     17.856249   \n",
       "9                                     16.762469   \n",
       "10                                    16.335084   \n",
       "11                                    16.260731   \n",
       "12                                    16.515911   \n",
       "\n",
       "              total_number_of_reviews_reviewer_has_given  reviewer_score  \\\n",
       "review_month                                                               \n",
       "1                                               7.237982        8.482867   \n",
       "2                                               7.031723        8.535112   \n",
       "3                                               7.050096        8.481804   \n",
       "4                                               6.995466        8.432337   \n",
       "5                                               7.138357        8.386081   \n",
       "6                                               6.815133        8.387518   \n",
       "7                                               6.785122        8.339427   \n",
       "8                                               7.091152        8.413316   \n",
       "9                                               7.422918        8.294089   \n",
       "10                                              7.337817        8.262772   \n",
       "11                                              7.656016        8.343524   \n",
       "12                                              7.731825        8.431357   \n",
       "\n",
       "              days_since_review  \n",
       "review_month                     \n",
       "1                    368.816949  \n",
       "2                    348.440123  \n",
       "3                    324.264208  \n",
       "4                    292.183902  \n",
       "5                    259.978652  \n",
       "6                    224.753190  \n",
       "7                    210.485396  \n",
       "8                    462.470994  \n",
       "9                    491.503103  \n",
       "10                   454.304840  \n",
       "11                   445.711876  \n",
       "12                   395.475402  "
      ]
     },
     "execution_count": 414,
     "metadata": {},
     "output_type": "execute_result"
    }
   ],
   "source": [
    "score_month = hotels.groupby('review_month').agg('mean') # группируем для визуализации\n",
    "\n",
    "score_month"
   ]
  },
  {
   "cell_type": "code",
   "execution_count": 415,
   "metadata": {},
   "outputs": [
    {
     "data": {
      "image/png": "[encoded data removed]",
      "text/plain": [
       "<Figure size 1080x360 with 1 Axes>"
      ]
     },
     "metadata": {
      "needs_background": "light"
     },
     "output_type": "display_data"
    }
   ],
   "source": [
    "fig, ax = plt.subplots(figsize=(15, 5))\n",
    "plt.suptitle('Среднее значение целевого показателя в зависимости от месяца', size=16)\n",
    "bar_month = sns.barplot(\n",
    "    x=score_month.index, \n",
    "    y=score_month['reviewer_score'])\n",
    "ax.set_xticklabels([\n",
    "    'Jan', 'Feb', 'Mar', 'Apr', 'May', 'Jun', \n",
    "    'Jul', 'Aug', 'Sep', 'Oct', 'Nov', 'Dec'])\n",
    "\n",
    "for p in bar_month.patches:\n",
    "    bar_month.annotate(\n",
    "        '{:.2f}'.format(p.get_height()), (p.get_x()+0.4, p.get_height()),\n",
    "    ha='center', va='bottom', fontsize=14)\n",
    "\n",
    "plt.ylim(8, 8.7);"
   ]
  },
  {
   "cell_type": "markdown",
   "metadata": {},
   "source": [
    "На графике видно, что минимальные оценки приходятся на май-октябрь. Можем предположить, что это связано с наплывом посетителей. "
   ]
  },
  {
   "cell_type": "markdown",
   "metadata": {},
   "source": [
    "## Отели"
   ]
  },
  {
   "cell_type": "code",
   "execution_count": 416,
   "metadata": {},
   "outputs": [
    {
     "name": "stdout",
     "output_type": "stream",
     "text": [
      "Отелей представлено: 1492\n"
     ]
    }
   ],
   "source": [
    "# уникальные названия отелей\n",
    "print('Отелей представлено: {}'.format(hotels['hotel_name'].nunique()))"
   ]
  },
  {
   "cell_type": "code",
   "execution_count": 417,
   "metadata": {},
   "outputs": [
    {
     "data": {
      "text/html": [
       "<div>\n",
       "<style scoped>\n",
       "    .dataframe tbody tr th:only-of-type {\n",
       "        vertical-align: middle;\n",
       "    }\n",
       "\n",
       "    .dataframe tbody tr th {\n",
       "        vertical-align: top;\n",
       "    }\n",
       "\n",
       "    .dataframe thead th {\n",
       "        text-align: right;\n",
       "    }\n",
       "</style>\n",
       "<table border=\"1\" class=\"dataframe\">\n",
       "  <thead>\n",
       "    <tr style=\"text-align: right;\">\n",
       "      <th></th>\n",
       "      <th>hotel_address</th>\n",
       "    </tr>\n",
       "    <tr>\n",
       "      <th>hotel_name</th>\n",
       "      <th></th>\n",
       "    </tr>\n",
       "  </thead>\n",
       "  <tbody>\n",
       "    <tr>\n",
       "      <th>11 Cadogan Gardens</th>\n",
       "      <td>1</td>\n",
       "    </tr>\n",
       "    <tr>\n",
       "      <th>1K Hotel</th>\n",
       "      <td>1</td>\n",
       "    </tr>\n",
       "    <tr>\n",
       "      <th>25hours Hotel beim MuseumsQuartier</th>\n",
       "      <td>1</td>\n",
       "    </tr>\n",
       "    <tr>\n",
       "      <th>41</th>\n",
       "      <td>1</td>\n",
       "    </tr>\n",
       "    <tr>\n",
       "      <th>45 Park Lane Dorchester Collection</th>\n",
       "      <td>1</td>\n",
       "    </tr>\n",
       "  </tbody>\n",
       "</table>\n",
       "</div>"
      ],
      "text/plain": [
       "                                    hotel_address\n",
       "hotel_name                                       \n",
       "11 Cadogan Gardens                              1\n",
       "1K Hotel                                        1\n",
       "25hours Hotel beim MuseumsQuartier              1\n",
       "41                                              1\n",
       "45 Park Lane Dorchester Collection              1"
      ]
     },
     "execution_count": 417,
     "metadata": {},
     "output_type": "execute_result"
    }
   ],
   "source": [
    "# уникальный адрес и разное название \n",
    "name_address = hotels.pivot_table(\n",
    "    values = 'hotel_address',\n",
    "    index = 'hotel_name',\n",
    "    aggfunc = 'nunique'\n",
    ")\n",
    "name_address.head()"
   ]
  },
  {
   "cell_type": "code",
   "execution_count": 418,
   "metadata": {},
   "outputs": [
    {
     "data": {
      "text/html": [
       "<div>\n",
       "<style scoped>\n",
       "    .dataframe tbody tr th:only-of-type {\n",
       "        vertical-align: middle;\n",
       "    }\n",
       "\n",
       "    .dataframe tbody tr th {\n",
       "        vertical-align: top;\n",
       "    }\n",
       "\n",
       "    .dataframe thead th {\n",
       "        text-align: right;\n",
       "    }\n",
       "</style>\n",
       "<table border=\"1\" class=\"dataframe\">\n",
       "  <thead>\n",
       "    <tr style=\"text-align: right;\">\n",
       "      <th></th>\n",
       "      <th>hotel_address</th>\n",
       "    </tr>\n",
       "    <tr>\n",
       "      <th>hotel_name</th>\n",
       "      <th></th>\n",
       "    </tr>\n",
       "  </thead>\n",
       "  <tbody>\n",
       "    <tr>\n",
       "      <th>Hotel Regina</th>\n",
       "      <td>3</td>\n",
       "    </tr>\n",
       "  </tbody>\n",
       "</table>\n",
       "</div>"
      ],
      "text/plain": [
       "              hotel_address\n",
       "hotel_name                 \n",
       "Hotel Regina              3"
      ]
     },
     "execution_count": 418,
     "metadata": {},
     "output_type": "execute_result"
    }
   ],
   "source": [
    "# находим несколько отелей с одинаковым названием\n",
    "dupl = name_address[name_address['hotel_address'] > 1]\n",
    "dupl"
   ]
  },
  {
   "cell_type": "code",
   "execution_count": 419,
   "metadata": {},
   "outputs": [
    {
     "data": {
      "text/plain": [
       "['Hotel Regina']"
      ]
     },
     "execution_count": 419,
     "metadata": {},
     "output_type": "execute_result"
    }
   ],
   "source": [
    "# Cоздадим список, в котором будет храниться название отеля, имеющее несколько адресов.\n",
    "dupl_list = dupl[dupl['hotel_address'] > 1].index.to_list()\n",
    "dupl_list"
   ]
  },
  {
   "cell_type": "code",
   "execution_count": 420,
   "metadata": {},
   "outputs": [
    {
     "data": {
      "text/plain": [
       "1494"
      ]
     },
     "execution_count": 420,
     "metadata": {},
     "output_type": "execute_result"
    }
   ],
   "source": [
    "# объединяем в строку название и адрес\n",
    "hotels['hotel_name'] = hotels.apply(lambda x: (x['hotel_name'] + ' in ' + x['hotel_address'].split()[-1])\n",
    "    if (x['hotel_name'] in dupl_list) else x['hotel_name'], axis=1)\n",
    "\n",
    "hotels['hotel_name'].nunique()"
   ]
  },
  {
   "cell_type": "code",
   "execution_count": 421,
   "metadata": {},
   "outputs": [
    {
     "data": {
      "text/plain": [
       "Hotel Regina in Spain      440\n",
       "Hotel Regina in Austria    222\n",
       "Hotel Regina in Italy       47\n",
       "Name: hotel_name, dtype: int64"
      ]
     },
     "execution_count": 421,
     "metadata": {},
     "output_type": "execute_result"
    }
   ],
   "source": [
    "hotels[hotels['hotel_name'].str.contains(dupl_list[0])]['hotel_name'].value_counts()"
   ]
  },
  {
   "cell_type": "code",
   "execution_count": 422,
   "metadata": {},
   "outputs": [
    {
     "data": {
      "text/plain": [
       "['United Kingdom', 'France', 'Netherlands', 'Italy', 'Austria', 'Spain']"
      ]
     },
     "execution_count": 422,
     "metadata": {},
     "output_type": "execute_result"
    }
   ],
   "source": [
    "# выделение страны из адреса\n",
    "hotels['hotel_country'] = hotels['hotel_address'].apply(lambda x: x.split()[-1])\n",
    "# United Kingdom 2 слова, начнем с него\n",
    "hotels['hotel_country'] = hotels['hotel_country'].apply(lambda x:'United Kingdom' if x == 'Kingdom' else x) \n",
    "country_list = list(hotels['hotel_country'].unique()) # в датасете отели из 6 стран\n",
    "country_list"
   ]
  },
  {
   "cell_type": "code",
   "execution_count": 423,
   "metadata": {},
   "outputs": [
    {
     "data": {
      "text/plain": [
       "['London', 'Paris', 'Amsterdam', 'Milan', 'Vienna', 'Barcelona']"
      ]
     },
     "execution_count": 423,
     "metadata": {},
     "output_type": "execute_result"
    }
   ],
   "source": [
    "# выделение города из адреса\n",
    "hotels['hotel_city'] = hotels['hotel_address'].apply(lambda x: x.split()[-2])\n",
    "hotels['hotel_city'] = hotels['hotel_city'].apply(lambda x: 'London' if x == 'United' else x)\n",
    "city_list = list(hotels['hotel_city'].unique())\n",
    "city_list"
   ]
  },
  {
   "cell_type": "code",
   "execution_count": 424,
   "metadata": {},
   "outputs": [],
   "source": [
    "# кодируем название страны\n",
    "hotels['hotel_country'] = hotels['hotel_country'].astype('category')\n",
    "hotels['hotel_country_code'] = hotels['hotel_country'].cat.codes"
   ]
  },
  {
   "cell_type": "markdown",
   "metadata": {},
   "source": [
    "## Национальность резидента"
   ]
  },
  {
   "cell_type": "code",
   "execution_count": 425,
   "metadata": {},
   "outputs": [
    {
     "name": "stdout",
     "output_type": "stream",
     "text": [
      "Рецензенты из 225 стран оставили отзывы и оценки об отеле.\n"
     ]
    }
   ],
   "source": [
    "# отсекаем пробелы в начале и в конце строки\n",
    "hotels['reviewer_nationality'] = hotels['reviewer_nationality'].apply(lambda x: x.strip()) \n",
    "\n",
    "\n",
    "print('Рецензенты из {} стран оставили отзывы и оценки об отеле.'.format(hotels['reviewer_nationality'].nunique()))"
   ]
  },
  {
   "cell_type": "code",
   "execution_count": 426,
   "metadata": {},
   "outputs": [],
   "source": [
    "# кодируем информацию о стране рецензента:\n",
    "hotels['reviewer_nationality'] = hotels['reviewer_nationality'].astype('category')\n",
    "hotels['reviewer_nationality_code'] = hotels['reviewer_nationality'].cat.codes"
   ]
  },
  {
   "cell_type": "markdown",
   "metadata": {},
   "source": [
    "## Тэги"
   ]
  },
  {
   "cell_type": "code",
   "execution_count": 427,
   "metadata": {},
   "outputs": [
    {
     "name": "stdout",
     "output_type": "stream",
     "text": [
      "Уникальных тэгов:  2368\n"
     ]
    }
   ],
   "source": [
    "# функция поиска тэгов\n",
    "def count_tags(tags):\n",
    "    express = re.findall(\"'[^\\'](.+?)[^\\']'\", tags)\n",
    "    return express\n",
    "\n",
    "print('Уникальных тэгов: ', hotels['tags'].apply(count_tags).explode().nunique())"
   ]
  },
  {
   "cell_type": "code",
   "execution_count": 428,
   "metadata": {},
   "outputs": [
    {
     "name": "stdout",
     "output_type": "stream",
     "text": [
      "0    Leisure trip\n",
      "Name: tags, dtype: object\n"
     ]
    }
   ],
   "source": [
    "# Какой тег представлен в наибольшем числе отзывов?\n",
    "print(hotels['tags'].apply(count_tags).explode().mode())"
   ]
  },
  {
   "cell_type": "code",
   "execution_count": 429,
   "metadata": {},
   "outputs": [],
   "source": [
    "# Введём новый признак count_nights (количество ночей)\n",
    "def count_nights(tags):\n",
    "    express = re.findall(r'Stayed\\s([0-9]+)\\snight', tags)\n",
    "    return express\n",
    "\n",
    "hotels['count_nights'] = hotels['tags'].apply(count_nights)\n",
    "\n",
    "def convert(feature):\n",
    "    for elem, num in enumerate(feature):\n",
    "        return np.float64(num)\n",
    "    \n",
    "hotels['count_nights'] = hotels['count_nights'].apply(convert).convert_dtypes().fillna(1)"
   ]
  },
  {
   "cell_type": "code",
   "execution_count": 430,
   "metadata": {},
   "outputs": [
    {
     "data": {
      "text/plain": [
       "<AxesSubplot:xlabel='count_nights', ylabel=\"('count', 'reviewer_score')\">"
      ]
     },
     "execution_count": 430,
     "metadata": {},
     "output_type": "execute_result"
    },
    {
     "data": {
      "image/png": "[encoded data removed]",
      "text/plain": [
       "<Figure size 576x288 with 1 Axes>"
      ]
     },
     "metadata": {
      "needs_background": "light"
     },
     "output_type": "display_data"
    }
   ],
   "source": [
    "pivot_nights = pd.pivot_table(\n",
    "    data=hotels,\n",
    "    index='count_nights', \n",
    "    values='reviewer_score', \n",
    "    aggfunc=['count', 'mean'])\n",
    "\n",
    "    \n",
    "fig, ax = plt.subplots(figsize=(8, 4))\n",
    "plt.suptitle('Количество оценок в зависимости от проведённых в отеле ночей', size=20)\n",
    "sns.barplot(x=pivot_nights.index, y=pivot_nights[('count', 'reviewer_score')])"
   ]
  },
  {
   "cell_type": "markdown",
   "metadata": {},
   "source": [
    "График говорить о том, что чем больше было ночей в отеле, тем меньше оценок о нем. Это может быть связано с тем, что клиентам не понравилось и они решили поменять отель."
   ]
  },
  {
   "cell_type": "markdown",
   "metadata": {},
   "source": [
    "## Общее количество отзывов"
   ]
  },
  {
   "cell_type": "code",
   "execution_count": 431,
   "metadata": {},
   "outputs": [
    {
     "data": {
      "text/plain": [
       "0         2.079442\n",
       "1         2.708050\n",
       "2         2.708050\n",
       "3         2.197225\n",
       "4         2.397895\n",
       "            ...   \n",
       "386798    2.397895\n",
       "386799    0.693147\n",
       "386800    3.091042\n",
       "386801    3.367296\n",
       "386802    1.098612\n",
       "Name: total_number_of_reviews_reviewer_has_given, Length: 386496, dtype: float64"
      ]
     },
     "execution_count": 431,
     "metadata": {},
     "output_type": "execute_result"
    }
   ],
   "source": [
    "hotels['total_number_of_reviews_reviewer_has_given'].groupby(\n",
    "    pd.cut(hotels['total_number_of_reviews_reviewer_has_given'], \n",
    "    np.arange(0, 500, 50))).agg('count'\n",
    ")\n",
    "\n",
    "hotels['total_number_of_reviews_reviewer_has_given'] = hotels[\n",
    "    'total_number_of_reviews_reviewer_has_given'].apply(\n",
    "    lambda x: np.log(x+1)\n",
    ")\n",
    "\n",
    "hotels['total_number_of_reviews_reviewer_has_given']"
   ]
  },
  {
   "cell_type": "code",
   "execution_count": 432,
   "metadata": {},
   "outputs": [
    {
     "name": "stdout",
     "output_type": "stream",
     "text": [
      "<class 'pandas.core.frame.DataFrame'>\n",
      "Int64Index: 386496 entries, 0 to 386802\n",
      "Data columns (total 23 columns):\n",
      " #   Column                                      Non-Null Count   Dtype         \n",
      "---  ------                                      --------------   -----         \n",
      " 0   hotel_address                               386496 non-null  object        \n",
      " 1   additional_number_of_scoring                386496 non-null  int64         \n",
      " 2   review_date                                 386496 non-null  datetime64[ns]\n",
      " 3   average_score                               386496 non-null  float64       \n",
      " 4   hotel_name                                  386496 non-null  object        \n",
      " 5   reviewer_nationality                        386496 non-null  category      \n",
      " 6   negative_review                             386496 non-null  object        \n",
      " 7   review_total_negative_word_counts           386496 non-null  int64         \n",
      " 8   total_number_of_reviews                     386496 non-null  int64         \n",
      " 9   positive_review                             386496 non-null  object        \n",
      " 10  review_total_positive_word_counts           386496 non-null  int64         \n",
      " 11  total_number_of_reviews_reviewer_has_given  386496 non-null  float64       \n",
      " 12  reviewer_score                              386496 non-null  float64       \n",
      " 13  tags                                        386496 non-null  object        \n",
      " 14  days_since_review                           386496 non-null  int64         \n",
      " 15  lat                                         0 non-null       object        \n",
      " 16  lng                                         0 non-null       object        \n",
      " 17  review_month                                386496 non-null  int64         \n",
      " 18  hotel_country                               386496 non-null  category      \n",
      " 19  hotel_city                                  386496 non-null  object        \n",
      " 20  hotel_country_code                          386496 non-null  int8          \n",
      " 21  reviewer_nationality_code                   386496 non-null  int16         \n",
      " 22  count_nights                                386496 non-null  Int64         \n",
      "dtypes: Int64(1), category(2), datetime64[ns](1), float64(3), int16(1), int64(6), int8(1), object(8)\n",
      "memory usage: 61.6+ MB\n"
     ]
    }
   ],
   "source": [
    "hotels.info()"
   ]
  },
  {
   "cell_type": "markdown",
   "metadata": {},
   "source": [
    "Вычислим долю слов положительных комментариев среди всех комментариев. Пометим строку, если количество слов в пложительном комментарии преобладает над количеством слов в отрицательном."
   ]
  },
  {
   "cell_type": "code",
   "execution_count": 433,
   "metadata": {},
   "outputs": [],
   "source": [
    "hotels['review_total_positive_word_counts_norm']  = pd.DataFrame(\n",
    "    MinMaxScaler().fit_transform(pd.DataFrame(hotels['review_total_positive_word_counts'])),\n",
    "    columns=['review_total_positive_word_counts'])\n",
    "\n",
    "hotels['review_total_negative_word_counts_norm']  = pd.DataFrame(\n",
    "    MinMaxScaler().fit_transform(pd.DataFrame(hotels['review_total_negative_word_counts'])),\n",
    "    columns=['review_total_negative_word_counts'])\n",
    "\n",
    "hotels['review_total_word_diff_norm'] = hotels['review_total_positive_word_counts_norm'] - hotels['review_total_negative_word_counts_norm']\n",
    "\n",
    "hotels['more_positive'] = hotels['review_total_word_diff_norm'].apply(lambda x: 1 if x >= 0 else 0)\n",
    "\n",
    "hotels.drop(\n",
    "    ['review_total_positive_word_counts_norm', 'review_total_negative_word_counts_norm'], \n",
    "    axis=1, inplace=True)"
   ]
  },
  {
   "cell_type": "code",
   "execution_count": 434,
   "metadata": {},
   "outputs": [
    {
     "name": "stdout",
     "output_type": "stream",
     "text": [
      "<class 'pandas.core.frame.DataFrame'>\n",
      "Int64Index: 386496 entries, 0 to 386802\n",
      "Data columns (total 25 columns):\n",
      " #   Column                                      Non-Null Count   Dtype         \n",
      "---  ------                                      --------------   -----         \n",
      " 0   hotel_address                               386496 non-null  object        \n",
      " 1   additional_number_of_scoring                386496 non-null  int64         \n",
      " 2   review_date                                 386496 non-null  datetime64[ns]\n",
      " 3   average_score                               386496 non-null  float64       \n",
      " 4   hotel_name                                  386496 non-null  object        \n",
      " 5   reviewer_nationality                        386496 non-null  category      \n",
      " 6   negative_review                             386496 non-null  object        \n",
      " 7   review_total_negative_word_counts           386496 non-null  int64         \n",
      " 8   total_number_of_reviews                     386496 non-null  int64         \n",
      " 9   positive_review                             386496 non-null  object        \n",
      " 10  review_total_positive_word_counts           386496 non-null  int64         \n",
      " 11  total_number_of_reviews_reviewer_has_given  386496 non-null  float64       \n",
      " 12  reviewer_score                              386496 non-null  float64       \n",
      " 13  tags                                        386496 non-null  object        \n",
      " 14  days_since_review                           386496 non-null  int64         \n",
      " 15  lat                                         0 non-null       object        \n",
      " 16  lng                                         0 non-null       object        \n",
      " 17  review_month                                386496 non-null  int64         \n",
      " 18  hotel_country                               386496 non-null  category      \n",
      " 19  hotel_city                                  386496 non-null  object        \n",
      " 20  hotel_country_code                          386496 non-null  int8          \n",
      " 21  reviewer_nationality_code                   386496 non-null  int16         \n",
      " 22  count_nights                                386496 non-null  Int64         \n",
      " 23  review_total_word_diff_norm                 386189 non-null  float64       \n",
      " 24  more_positive                               386496 non-null  int64         \n",
      "dtypes: Int64(1), category(2), datetime64[ns](1), float64(4), int16(1), int64(7), int8(1), object(8)\n",
      "memory usage: 67.5+ MB\n"
     ]
    }
   ],
   "source": [
    "hotels.info()"
   ]
  },
  {
   "cell_type": "code",
   "execution_count": 435,
   "metadata": {},
   "outputs": [],
   "source": [
    "hotels['review_total_word_diff_norm'] = hotels['review_total_word_diff_norm'].fillna(0)"
   ]
  },
  {
   "cell_type": "code",
   "execution_count": 436,
   "metadata": {},
   "outputs": [],
   "source": [
    "hotels['review_total_word_sum'] = hotels['review_total_positive_word_counts'\n",
    "    ] + hotels['review_total_negative_word_counts'\n",
    "]\n",
    "\n",
    "# пополам отрицательных и положительных\n",
    "hotels['positive_words_proportion'] = hotels.apply( lambda x: 0.5 if x[\n",
    "    'review_total_word_sum'] == 0 else x[\n",
    "    'review_total_positive_word_counts'] / x['review_total_word_sum'],axis=1\n",
    ")\n",
    "\n",
    "hotels.drop('review_total_word_sum', axis = 1, inplace=True)"
   ]
  },
  {
   "cell_type": "markdown",
   "metadata": {},
   "source": [
    "# Отбор признаков"
   ]
  },
  {
   "cell_type": "code",
   "execution_count": 437,
   "metadata": {},
   "outputs": [
    {
     "name": "stdout",
     "output_type": "stream",
     "text": [
      "<class 'pandas.core.frame.DataFrame'>\n",
      "Int64Index: 386496 entries, 0 to 386802\n",
      "Data columns (total 26 columns):\n",
      " #   Column                                      Non-Null Count   Dtype         \n",
      "---  ------                                      --------------   -----         \n",
      " 0   hotel_address                               386496 non-null  object        \n",
      " 1   additional_number_of_scoring                386496 non-null  int64         \n",
      " 2   review_date                                 386496 non-null  datetime64[ns]\n",
      " 3   average_score                               386496 non-null  float64       \n",
      " 4   hotel_name                                  386496 non-null  object        \n",
      " 5   reviewer_nationality                        386496 non-null  category      \n",
      " 6   negative_review                             386496 non-null  object        \n",
      " 7   review_total_negative_word_counts           386496 non-null  int64         \n",
      " 8   total_number_of_reviews                     386496 non-null  int64         \n",
      " 9   positive_review                             386496 non-null  object        \n",
      " 10  review_total_positive_word_counts           386496 non-null  int64         \n",
      " 11  total_number_of_reviews_reviewer_has_given  386496 non-null  float64       \n",
      " 12  reviewer_score                              386496 non-null  float64       \n",
      " 13  tags                                        386496 non-null  object        \n",
      " 14  days_since_review                           386496 non-null  int64         \n",
      " 15  lat                                         0 non-null       object        \n",
      " 16  lng                                         0 non-null       object        \n",
      " 17  review_month                                386496 non-null  int64         \n",
      " 18  hotel_country                               386496 non-null  category      \n",
      " 19  hotel_city                                  386496 non-null  object        \n",
      " 20  hotel_country_code                          386496 non-null  int8          \n",
      " 21  reviewer_nationality_code                   386496 non-null  int16         \n",
      " 22  count_nights                                386496 non-null  Int64         \n",
      " 23  review_total_word_diff_norm                 386496 non-null  float64       \n",
      " 24  more_positive                               386496 non-null  int64         \n",
      " 25  positive_words_proportion                   386496 non-null  float64       \n",
      "dtypes: Int64(1), category(2), datetime64[ns](1), float64(5), int16(1), int64(7), int8(1), object(8)\n",
      "memory usage: 70.4+ MB\n"
     ]
    }
   ],
   "source": [
    "hotels.info()"
   ]
  },
  {
   "cell_type": "code",
   "execution_count": 438,
   "metadata": {},
   "outputs": [],
   "source": [
    "hotels_cp = hotels.copy()"
   ]
  },
  {
   "cell_type": "code",
   "execution_count": 439,
   "metadata": {},
   "outputs": [
    {
     "name": "stdout",
     "output_type": "stream",
     "text": [
      "<class 'pandas.core.frame.DataFrame'>\n",
      "Int64Index: 386496 entries, 0 to 386802\n",
      "Data columns (total 15 columns):\n",
      " #   Column                                      Non-Null Count   Dtype  \n",
      "---  ------                                      --------------   -----  \n",
      " 0   additional_number_of_scoring                386496 non-null  int64  \n",
      " 1   average_score                               386496 non-null  float64\n",
      " 2   review_total_negative_word_counts           386496 non-null  int64  \n",
      " 3   total_number_of_reviews                     386496 non-null  int64  \n",
      " 4   review_total_positive_word_counts           386496 non-null  int64  \n",
      " 5   total_number_of_reviews_reviewer_has_given  386496 non-null  float64\n",
      " 6   reviewer_score                              386496 non-null  float64\n",
      " 7   days_since_review                           386496 non-null  int64  \n",
      " 8   review_month                                386496 non-null  int64  \n",
      " 9   hotel_country_code                          386496 non-null  int8   \n",
      " 10  reviewer_nationality_code                   386496 non-null  int16  \n",
      " 11  count_nights                                386496 non-null  Int64  \n",
      " 12  review_total_word_diff_norm                 386496 non-null  float64\n",
      " 13  more_positive                               386496 non-null  int64  \n",
      " 14  positive_words_proportion                   386496 non-null  float64\n",
      "dtypes: Int64(1), float64(5), int16(1), int64(7), int8(1)\n",
      "memory usage: 42.8 MB\n"
     ]
    }
   ],
   "source": [
    "object_columns = [s for s in hotels.columns if hotels[s].dtypes == 'object'] #список со столбцами\n",
    "hotels.drop(object_columns, axis = 1, inplace=True) # удаляем столбцы\n",
    "\n",
    "# также избавимся от других нечисловых признаков: category, datetime64[ns]\n",
    "cat_date_columns = [cd for cd in hotels.columns if ((hotels[cd].dtypes.name == 'category') or (hotels[cd].dtypes == 'datetime64[ns]'))]\n",
    "hotels.drop(cat_date_columns, axis = 1, inplace=True)\n",
    "\n",
    "hotels.info()"
   ]
  },
  {
   "cell_type": "markdown",
   "metadata": {},
   "source": [
    "## Анализ мультиколлинеарности"
   ]
  },
  {
   "cell_type": "code",
   "execution_count": 440,
   "metadata": {},
   "outputs": [],
   "source": [
    "cols_num = [\n",
    "    'review_total_negative_word_counts',\n",
    "    'review_total_positive_word_counts',\n",
    "    'review_total_word_diff_norm',\n",
    "    'total_number_of_reviews_reviewer_has_given',\n",
    "    'positive_words_proportion'  \n",
    "]\n",
    "\n",
    "cols_cat = ['additional_number_of_scoring',\n",
    "    'average_score',\n",
    "    'total_number_of_reviews',\n",
    "    'days_since_review',\n",
    "    'hotel_country_code',\n",
    "    'reviewer_nationality_code',\n",
    "    'count_nights',\n",
    "    'review_month',\n",
    "    'more_positive'\n",
    "]"
   ]
  },
  {
   "cell_type": "code",
   "execution_count": 441,
   "metadata": {},
   "outputs": [
    {
     "data": {
      "image/png": "[encoded data removed]",
      "text/plain": [
       "<Figure size 1080x720 with 2 Axes>"
      ]
     },
     "metadata": {
      "needs_background": "light"
     },
     "output_type": "display_data"
    }
   ],
   "source": [
    "fig_, ax_ = plt.subplots(figsize=(15, 10))\n",
    "corr = hotels[cols_num].corr(method='pearson')\n",
    "mask = np.triu(np.ones_like(corr, dtype=bool))\n",
    "sns.heatmap(corr, \n",
    "            annot=True, \n",
    "            linewidths=0.1, \n",
    "            ax=ax_, \n",
    "            mask=mask, \n",
    "            cmap='viridis',\n",
    "            fmt='.1g')\n",
    "ax_.set_title('Корреляция непрерывных признаков', fontsize=18)\n",
    "plt.show()"
   ]
  },
  {
   "cell_type": "code",
   "execution_count": 442,
   "metadata": {},
   "outputs": [
    {
     "data": {
      "image/png": "[encoded data removed]",
      "text/plain": [
       "<Figure size 1080x864 with 2 Axes>"
      ]
     },
     "metadata": {
      "needs_background": "light"
     },
     "output_type": "display_data"
    }
   ],
   "source": [
    "fig_, ax_ = plt.subplots(figsize=(15, 12))\n",
    "corr = hotels[cols_cat].corr(method='spearman')\n",
    "mask = np.triu(np.ones_like(corr, dtype=bool))\n",
    "sns.heatmap(corr, \n",
    "            annot=True, \n",
    "            linewidths=0.1, \n",
    "            ax=ax_, \n",
    "            mask=mask, \n",
    "            cmap='inferno',\n",
    "            fmt='.1g')\n",
    "ax_.set_title('Корреляция категориальных признаков', fontsize=18)\n",
    "plt.show()"
   ]
  },
  {
   "cell_type": "markdown",
   "metadata": {},
   "source": [
    "Удаляем признаки с корреляцией больше 0.8"
   ]
  },
  {
   "cell_type": "code",
   "execution_count": 443,
   "metadata": {},
   "outputs": [],
   "source": [
    "cols_num = [\n",
    "    'review_total_negative_word_counts',\n",
    "    'review_total_positive_word_counts',\n",
    "    'review_total_word_diff_norm',\n",
    "    'total_number_of_reviews_reviewer_has_given',\n",
    "    'positive_words_proportion'  \n",
    "]\n",
    "\n",
    "cols_cat = ['average_score',\n",
    "    'total_number_of_reviews',\n",
    "    'days_since_review',\n",
    "    'hotel_country_code',\n",
    "    'reviewer_nationality_code',\n",
    "    'count_nights',\n",
    "    'review_month',\n",
    "    'more_positive'\n",
    "]"
   ]
  },
  {
   "cell_type": "code",
   "execution_count": 444,
   "metadata": {},
   "outputs": [],
   "source": [
    "hotels.drop('additional_number_of_scoring', axis = 1, inplace=True)"
   ]
  },
  {
   "cell_type": "code",
   "execution_count": 445,
   "metadata": {},
   "outputs": [
    {
     "name": "stdout",
     "output_type": "stream",
     "text": [
      "Осталось признаков: 14\n"
     ]
    }
   ],
   "source": [
    "print('Осталось признаков: {}'.format(hotels.shape[1]))"
   ]
  },
  {
   "cell_type": "code",
   "execution_count": 446,
   "metadata": {},
   "outputs": [
    {
     "name": "stdout",
     "output_type": "stream",
     "text": [
      "<class 'pandas.core.frame.DataFrame'>\n",
      "Int64Index: 386496 entries, 0 to 386802\n",
      "Data columns (total 14 columns):\n",
      " #   Column                                      Non-Null Count   Dtype  \n",
      "---  ------                                      --------------   -----  \n",
      " 0   average_score                               386496 non-null  float64\n",
      " 1   review_total_negative_word_counts           386496 non-null  int64  \n",
      " 2   total_number_of_reviews                     386496 non-null  int64  \n",
      " 3   review_total_positive_word_counts           386496 non-null  int64  \n",
      " 4   total_number_of_reviews_reviewer_has_given  386496 non-null  float64\n",
      " 5   reviewer_score                              386496 non-null  float64\n",
      " 6   days_since_review                           386496 non-null  int64  \n",
      " 7   review_month                                386496 non-null  int64  \n",
      " 8   hotel_country_code                          386496 non-null  int8   \n",
      " 9   reviewer_nationality_code                   386496 non-null  int16  \n",
      " 10  count_nights                                386496 non-null  Int64  \n",
      " 11  review_total_word_diff_norm                 386496 non-null  float64\n",
      " 12  more_positive                               386496 non-null  int64  \n",
      " 13  positive_words_proportion                   386496 non-null  float64\n",
      "dtypes: Int64(1), float64(5), int16(1), int64(6), int8(1)\n",
      "memory usage: 39.8 MB\n"
     ]
    }
   ],
   "source": [
    "hotels.info()"
   ]
  },
  {
   "cell_type": "markdown",
   "metadata": {},
   "source": [
    "## Оценка значимости признаков"
   ]
  },
  {
   "cell_type": "markdown",
   "metadata": {},
   "source": [
    "Для оценки значимости категориальных признаков будем использовать тест хи-квадрат, для непрерывных признаков — тест ANOVA."
   ]
  },
  {
   "cell_type": "code",
   "execution_count": 447,
   "metadata": {},
   "outputs": [
    {
     "data": {
      "text/plain": [
       "<AxesSubplot:>"
      ]
     },
     "execution_count": 447,
     "metadata": {},
     "output_type": "execute_result"
    },
    {
     "data": {
      "image/png": "[encoded data removed]",
      "text/plain": [
       "<Figure size 432x288 with 1 Axes>"
      ]
     },
     "metadata": {
      "needs_background": "light"
     },
     "output_type": "display_data"
    }
   ],
   "source": [
    "X = hotels.drop(['reviewer_score'], axis = 1)  \n",
    "y = hotels['reviewer_score']\n",
    "y=y.astype('int')\n",
    "\n",
    "from sklearn.feature_selection import chi2 # хи-квадрат\n",
    "\n",
    "imp_cat = pd.Series(chi2(X[cols_cat], y)[0], index=cols_cat)\n",
    "imp_cat.sort_values(inplace = True)\n",
    "imp_cat.plot(kind = 'barh')"
   ]
  },
  {
   "cell_type": "code",
   "execution_count": 448,
   "metadata": {},
   "outputs": [
    {
     "data": {
      "text/plain": [
       "<AxesSubplot:>"
      ]
     },
     "execution_count": 448,
     "metadata": {},
     "output_type": "execute_result"
    },
    {
     "data": {
      "image/png": "[encoded data removed]",
      "text/plain": [
       "<Figure size 432x288 with 1 Axes>"
      ]
     },
     "metadata": {
      "needs_background": "light"
     },
     "output_type": "display_data"
    }
   ],
   "source": [
    "from sklearn.feature_selection import f_classif # anova\n",
    "\n",
    "imp_num = pd.Series(f_classif(X[cols_num], y)[0], index = cols_num)\n",
    "imp_num.sort_values(inplace = True)\n",
    "imp_num.plot(kind = 'barh')"
   ]
  },
  {
   "cell_type": "code",
   "execution_count": 449,
   "metadata": {},
   "outputs": [],
   "source": [
    "# Разбиваем датафрейм на части, необходимые для обучения и тестирования модели  \n",
    "# Х - данные с информацией об отелях, у - целевая переменная (рейтинги отелей)  \n",
    "X = hotels.drop(['reviewer_score'], axis = 1)  \n",
    "y = hotels['reviewer_score'] \n",
    "\n",
    "# Наборы данных с меткой \"train\" будут использоваться для обучения модели, \"test\" - для тестирования.  \n",
    "# Для тестирования мы будем использовать 25% от исходного датасета.  \n",
    "X_train, X_test, y_train, y_test = train_test_split(X, y, test_size=0.25, random_state=42)\n",
    "\n",
    "# Создаём модель  \n",
    "regr = RandomForestRegressor(n_estimators=100)  \n",
    "      \n",
    "# Обучаем модель на тестовом наборе данных  \n",
    "regr.fit(X_train, y_train)  \n",
    "      \n",
    "# Используем обученную модель для предсказания рейтинга отелей в тестовой выборке.  \n",
    "# Предсказанные значения записываем в переменную y_pred  \n",
    "y_pred = regr.predict(X_test)  "
   ]
  },
  {
   "cell_type": "code",
   "execution_count": 450,
   "metadata": {},
   "outputs": [
    {
     "name": "stdout",
     "output_type": "stream",
     "text": [
      "MAPE: 0.13579031966100918\n"
     ]
    }
   ],
   "source": [
    "print('MAPE:', metrics.mean_absolute_percentage_error(y_test, y_pred))"
   ]
  }
 ],
 "metadata": {
  "kernelspec": {
   "display_name": "Python 3.10.3 64-bit",
   "language": "python",
   "name": "python3"
  },
  "language_info": {
   "codemirror_mode": {
    "name": "ipython",
    "version": 3
   },
   "file_extension": ".py",
   "mimetype": "text/x-python",
   "name": "python",
   "nbconvert_exporter": "python",
   "pygments_lexer": "ipython3",
   "version": "3.10.3"
  },
  "orig_nbformat": 4,
  "vscode": {
   "interpreter": {
    "hash": "a50573b8536920b9cf852c105dae18a44daa9dbb72c83a937552aed154c48aca"
   }
  }
 },
 "nbformat": 4,
 "nbformat_minor": 2
}
