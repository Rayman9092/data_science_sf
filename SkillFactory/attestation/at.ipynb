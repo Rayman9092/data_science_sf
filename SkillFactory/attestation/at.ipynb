{
 "cells": [
  {
   "cell_type": "markdown",
   "metadata": {},
   "source": [
    "✍ В данном блоке вам предстоит решить задачу, которую автор модуля когда-то решал на одном из собеседований.\n",
    "\n",
    "Дана таблица с данными о ежедневной выработке энергии солнечными батареями. Информация содержится в двух столбцах:\n",
    "\n",
    "date — дата наблюдения;\n",
    "cum_power — накопленная (кумулятивная) выработка энергии на указанный день.\n",
    "Таким образом, перед вами классический пример временного ряда — числовой показатель, зависящий от времени. Давайте с ним поработаем.\n",
    "\n",
    "Для начала прочитаем таблицу и выведем первые пять её строк:"
   ]
  },
  {
   "cell_type": "code",
   "execution_count": 1,
   "metadata": {},
   "outputs": [
    {
     "data": {
      "text/html": [
       "<div>\n",
       "<style scoped>\n",
       "    .dataframe tbody tr th:only-of-type {\n",
       "        vertical-align: middle;\n",
       "    }\n",
       "\n",
       "    .dataframe tbody tr th {\n",
       "        vertical-align: top;\n",
       "    }\n",
       "\n",
       "    .dataframe thead th {\n",
       "        text-align: right;\n",
       "    }\n",
       "</style>\n",
       "<table border=\"1\" class=\"dataframe\">\n",
       "  <thead>\n",
       "    <tr style=\"text-align: right;\">\n",
       "      <th></th>\n",
       "      <th>date</th>\n",
       "      <th>cum_power</th>\n",
       "    </tr>\n",
       "  </thead>\n",
       "  <tbody>\n",
       "    <tr>\n",
       "      <th>0</th>\n",
       "      <td>2017-01-01</td>\n",
       "      <td>20111.0</td>\n",
       "    </tr>\n",
       "    <tr>\n",
       "      <th>1</th>\n",
       "      <td>2017-01-02</td>\n",
       "      <td>20112.0</td>\n",
       "    </tr>\n",
       "    <tr>\n",
       "      <th>2</th>\n",
       "      <td>2017-01-03</td>\n",
       "      <td>20115.0</td>\n",
       "    </tr>\n",
       "    <tr>\n",
       "      <th>3</th>\n",
       "      <td>2017-01-04</td>\n",
       "      <td>20117.0</td>\n",
       "    </tr>\n",
       "    <tr>\n",
       "      <th>4</th>\n",
       "      <td>2017-01-05</td>\n",
       "      <td>20119.0</td>\n",
       "    </tr>\n",
       "  </tbody>\n",
       "</table>\n",
       "</div>"
      ],
      "text/plain": [
       "         date  cum_power\n",
       "0  2017-01-01    20111.0\n",
       "1  2017-01-02    20112.0\n",
       "2  2017-01-03    20115.0\n",
       "3  2017-01-04    20117.0\n",
       "4  2017-01-05    20119.0"
      ]
     },
     "execution_count": 1,
     "metadata": {},
     "output_type": "execute_result"
    }
   ],
   "source": [
    "import pandas as pd\n",
    "\n",
    "solar_data = pd.read_csv('data/solarpower.csv')\n",
    "solar_data.head()"
   ]
  },
  {
   "cell_type": "markdown",
   "metadata": {},
   "source": [
    "**Задание 3.1**\n",
    "\n",
    "В нашем временном ряде есть несколько пропусков, они обозначены числом -1. Заполните пропуски средним арифметическим между двумя соседними наблюдениями:"
   ]
  },
  {
   "cell_type": "code",
   "execution_count": 10,
   "metadata": {},
   "outputs": [
    {
     "name": "stdout",
     "output_type": "stream",
     "text": [
      "23848\n"
     ]
    }
   ],
   "source": [
    "for i, row in solar_data.iterrows():\n",
    "    if row['cum_power'] == -1:\n",
    "        solar_data.loc[i, \"cum_power\"]  =  (solar_data.loc[i-1, \"cum_power\"] + solar_data.loc[i+1, \"cum_power\"])/2\n",
    "\n",
    "print(round(solar_data['cum_power'].mean()))"
   ]
  },
  {
   "cell_type": "markdown",
   "metadata": {},
   "source": [
    "**Задание 3.2**\n",
    "\n",
    "Теперь, когда таблица заполнена, создайте столбец day_power — ежедневная выработка солнечной энергии.\n",
    "\n",
    "Далее создайте данные о средней ежедневной выработке энергии на каждый месяц-год.\n",
    "\n",
    "Совет: для того чтобы выделить из даты год и месяц, проще всего будет воспользоваться методом аксессора dt.to_period('M'), который позволяет выделять периоды (в данном случае 'М' — месяц).\n",
    "\n",
    "Затем сгруппируйте данные по периодам (год-месяц) и рассчитайте среднее в столбце day_power.\n",
    "\n",
    "Сколько солнечной энергии в среднем в день выработали в марте 2017 года? Ответ округлите до целого."
   ]
  },
  {
   "cell_type": "code",
   "execution_count": 31,
   "metadata": {},
   "outputs": [
    {
     "data": {
      "text/plain": [
       "year  month\n",
       "2017  1         3.0\n",
       "      2         4.0\n",
       "      3        11.0\n",
       "      4        16.0\n",
       "      5        19.0\n",
       "      6        22.0\n",
       "      7        18.0\n",
       "      8        15.0\n",
       "      9        12.0\n",
       "      10        6.0\n",
       "      11        3.0\n",
       "      12        1.0\n",
       "2018  1         2.0\n",
       "      2         7.0\n",
       "      3         9.0\n",
       "      4        15.0\n",
       "      5        21.0\n",
       "      6        19.0\n",
       "      7        22.0\n",
       "      8        17.0\n",
       "      9        14.0\n",
       "      10        9.0\n",
       "Name: day_power, dtype: float64"
      ]
     },
     "execution_count": 31,
     "metadata": {},
     "output_type": "execute_result"
    }
   ],
   "source": [
    "mask = solar_data['cum_power']\n",
    "mask = mask.diff()\n",
    "\n",
    "solar_data['day_power'] = mask\n",
    "\n",
    "\n",
    "solar_data['date'] = pd.to_datetime(solar_data['date'], dayfirst=True)\n",
    "solar_data['year'] = solar_data['date'].dt.year\n",
    "solar_data['month'] = solar_data['date'].dt.month\n",
    "\n",
    "solar_data.head()\n",
    "\n",
    "solar_data.groupby(['year', 'month'])['day_power'].mean().round()"
   ]
  },
  {
   "cell_type": "markdown",
   "metadata": {},
   "source": [
    "**Задание 3.3**\n",
    "\n",
    "Постройте график временного ряда — средней ежедневной выработки солнечной энергии на каждый месяц-год. Не забудьте подписать оси и сам график.\n",
    "\n",
    "Выберите вывод, который можно сделать из полученного графика:"
   ]
  },
  {
   "cell_type": "code",
   "execution_count": 41,
   "metadata": {},
   "outputs": [
    {
     "name": "stdout",
     "output_type": "stream",
     "text": [
      "year       month\n",
      "2017       1         3.0\n",
      "           2         4.0\n",
      "           3        11.0\n",
      "           4        16.0\n",
      "           5        19.0\n",
      "           6        22.0\n",
      "           7        18.0\n",
      "           8        15.0\n",
      "           9        12.0\n",
      "           10        6.0\n",
      "           11        3.0\n",
      "           12        1.0\n",
      "2018       1         2.0\n",
      "           2         7.0\n",
      "           3         9.0\n",
      "           4        15.0\n",
      "           5        21.0\n",
      "           6        19.0\n",
      "           7        22.0\n",
      "           8        17.0\n",
      "           9        14.0\n",
      "           10        9.0\n",
      "day_power            NaN\n",
      "Name: day_power, dtype: object\n"
     ]
    }
   ],
   "source": [
    "day_power['day_power'] = solar_data.groupby(['year', 'month'])['day_power'].mean().round()\n",
    "\n",
    "import plotly.express as px\n",
    "import pprint as pprint\n",
    "\n",
    "print(day_power)\n",
    "\n"
   ]
  },
  {
   "cell_type": "code",
   "execution_count": null,
   "metadata": {},
   "outputs": [],
   "source": [
    "fig_bar = px.bar(\n",
    "    day_power,\n",
    "    x='month',\n",
    "    color='year',\n",
    "    barmode='group',\n",
    "    title='График средней выработки солнечной энергии на каждый месяц-год'\n",
    ")\n",
    "\n",
    "fig_bar.show()"
   ]
  }
 ],
 "metadata": {
  "kernelspec": {
   "display_name": "Python 3.10.3 64-bit",
   "language": "python",
   "name": "python3"
  },
  "language_info": {
   "codemirror_mode": {
    "name": "ipython",
    "version": 3
   },
   "file_extension": ".py",
   "mimetype": "text/x-python",
   "name": "python",
   "nbconvert_exporter": "python",
   "pygments_lexer": "ipython3",
   "version": "3.10.3"
  },
  "orig_nbformat": 4,
  "vscode": {
   "interpreter": {
    "hash": "a50573b8536920b9cf852c105dae18a44daa9dbb72c83a937552aed154c48aca"
   }
  }
 },
 "nbformat": 4,
 "nbformat_minor": 2
}
